{
 "cells": [
  {
   "cell_type": "markdown",
   "metadata": {},
   "source": [
    "\n",
    "# <font color='Orange'> Machine Learning- Phase 2:\n",
    "# <font color='Orange'>Modeling and Prediction of Bank Customer Churn data.\n",
    "    \n",
    "> <font color='Black'>**Sudeshna Nayek- s3821041**\n",
    "\n",
    "---\n",
    "    \n",
    "#  Introduction\n",
    "\n",
    "## <font color='Gray'> Report Overview\n",
    "\n",
    "<font color='Black'> In this report we will fit three classifiers in order to predict whether a customer withdraw their account from the  bank or not. The models will then be compared in order to gain maximum accuracy. The data we are using has already been preprocessed and the final dataset contains 9987 records of bank customers based out of France, Germany and Spain. The descriptive features include 3 numeric and 8 categorical features. The target feature is Exited, 1 representing customers who have already left the bank and 0 for the existing ones. The report will contain the following:\n",
    "\n",
    "- Overview of methodology.\n",
    "- Predictive Modeling.\n",
    "    - Feature selection\n",
    "    - Model Fitting and Tuning\n",
    "    - Model Comparison\n",
    "- Critique & Limitations\n",
    "- Summary & Conclusions\n",
    "    - Project Summary\n",
    "    - Summary of Findings\n",
    "    - Conclusion\n",
    "\n",
    "\n",
    "## <font color='Gray'> Overview of Methodology\n",
    "\n",
    "\n",
    "<font color='Black'> In order to predict the target feature, we will be using the following classifiers:\n",
    "\n",
    "- Decision Tree\n",
    "- Random Forest\n",
    "- Gradient Boosting\n",
    "\n",
    "Given the data is already preprocessed, we will start off with creating 2 datasets, one will contain all the predictors and the other will contain the target feature.\n",
    "Both of these datasets will then be divided into train and test data in a ratio of 70:30 respectively.\n",
    "Therefore 6990 records will be used for hyper-parameter tuning and 2996 records to be used for model comparison.\n",
    "\n",
    "Feature scaling is not required as Decision Tree, Random Forest and Gradient Boosting classifiers doesn't use distance. These algorithms does not require normalisation of the descriptive features as they require partitioning.\n",
    "However, we will select the best features amongst the 10 predictors we have and proceed with them if the results allows so.\n",
    "Using feature selection together with hyperparameter search (GridSearchCV) inside a single pipeline, we will conduct a 10-fold stratified cross-validation to fine-tune hyperparameters of each classifier using accuracy as the performance metric. Multiple combinations of parametric values will be used during tuning in order to come across the best set of hyperparameter values. The best set will then be identified by the GridSearchCV tuning method. \n",
    "\n",
    "After identifying the three tuned classifiers, we will \"fit\" them on the test data using 10-fold cross-validation in a paired fashion and we will perform paired t-tests to see if there is any any statistically significant difference in them. In addition, we compare the classifiers with respect to their recall scores and confusion matrices on the test data.\n",
    "\n",
    "# Predictive Modeling :\n",
    "\n",
    "\n",
    "<font color='Black'> In order to build a model we will read the preprocessed data into Python.\n",
    "\n",
    "#### <font color='Gray'> Preleminaries"
   ]
  },
  {
   "cell_type": "code",
   "execution_count": 1,
   "metadata": {},
   "outputs": [],
   "source": [
    "import numpy as np\n",
    "import pandas as pd\n",
    "import matplotlib.pyplot as plt\n",
    "import seaborn as sns\n",
    "import sklearn.metrics as metrics\n",
    "\n",
    "from sklearn.model_selection import train_test_split\n",
    "from sklearn.tree import DecisionTreeClassifier\n",
    "from sklearn.ensemble import RandomForestClassifier\n",
    "from sklearn.ensemble import GradientBoostingClassifier\n",
    "from sklearn.feature_selection import SelectFromModel\n",
    "from sklearn.model_selection import StratifiedKFold, GridSearchCV, cross_val_score\n",
    "from sklearn.metrics import accuracy_score\n",
    "from sklearn.base import BaseEstimator, TransformerMixin\n",
    "from sklearn.pipeline import Pipeline\n",
    "from sklearn import feature_selection as fs\n",
    "from sklearn import metrics\n",
    "from scipy import stats\n",
    "\n",
    "import warnings\n",
    "warnings.filterwarnings(\"ignore\")\n"
   ]
  },
  {
   "cell_type": "code",
   "execution_count": 2,
   "metadata": {},
   "outputs": [],
   "source": [
    "churn_data = pd.read_csv('/Users/sudeshna/Desktop/Untitled Folder/Customer_ChurnData.csv')"
   ]
  },
  {
   "cell_type": "code",
   "execution_count": 3,
   "metadata": {
    "scrolled": true
   },
   "outputs": [
    {
     "data": {
      "text/html": [
       "<div>\n",
       "<style scoped>\n",
       "    .dataframe tbody tr th:only-of-type {\n",
       "        vertical-align: middle;\n",
       "    }\n",
       "\n",
       "    .dataframe tbody tr th {\n",
       "        vertical-align: top;\n",
       "    }\n",
       "\n",
       "    .dataframe thead th {\n",
       "        text-align: right;\n",
       "    }\n",
       "</style>\n",
       "<table border=\"1\" class=\"dataframe\">\n",
       "  <thead>\n",
       "    <tr style=\"text-align: right;\">\n",
       "      <th></th>\n",
       "      <th>CreditScore</th>\n",
       "      <th>Age</th>\n",
       "      <th>Tenure</th>\n",
       "      <th>Balance</th>\n",
       "      <th>NumOfProducts</th>\n",
       "      <th>HasCrCard</th>\n",
       "      <th>IsActiveMember</th>\n",
       "      <th>Exited</th>\n",
       "      <th>Gender_cat</th>\n",
       "      <th>Germany</th>\n",
       "      <th>Spain</th>\n",
       "    </tr>\n",
       "  </thead>\n",
       "  <tbody>\n",
       "    <tr>\n",
       "      <th>0</th>\n",
       "      <td>619</td>\n",
       "      <td>42</td>\n",
       "      <td>2</td>\n",
       "      <td>0.00</td>\n",
       "      <td>1</td>\n",
       "      <td>1</td>\n",
       "      <td>1</td>\n",
       "      <td>1</td>\n",
       "      <td>0</td>\n",
       "      <td>0.0</td>\n",
       "      <td>0.0</td>\n",
       "    </tr>\n",
       "    <tr>\n",
       "      <th>1</th>\n",
       "      <td>608</td>\n",
       "      <td>41</td>\n",
       "      <td>1</td>\n",
       "      <td>83807.86</td>\n",
       "      <td>1</td>\n",
       "      <td>0</td>\n",
       "      <td>1</td>\n",
       "      <td>0</td>\n",
       "      <td>0</td>\n",
       "      <td>0.0</td>\n",
       "      <td>1.0</td>\n",
       "    </tr>\n",
       "    <tr>\n",
       "      <th>2</th>\n",
       "      <td>502</td>\n",
       "      <td>42</td>\n",
       "      <td>8</td>\n",
       "      <td>159660.80</td>\n",
       "      <td>3</td>\n",
       "      <td>1</td>\n",
       "      <td>0</td>\n",
       "      <td>1</td>\n",
       "      <td>0</td>\n",
       "      <td>0.0</td>\n",
       "      <td>0.0</td>\n",
       "    </tr>\n",
       "    <tr>\n",
       "      <th>3</th>\n",
       "      <td>699</td>\n",
       "      <td>39</td>\n",
       "      <td>1</td>\n",
       "      <td>0.00</td>\n",
       "      <td>2</td>\n",
       "      <td>0</td>\n",
       "      <td>0</td>\n",
       "      <td>0</td>\n",
       "      <td>0</td>\n",
       "      <td>0.0</td>\n",
       "      <td>0.0</td>\n",
       "    </tr>\n",
       "    <tr>\n",
       "      <th>4</th>\n",
       "      <td>850</td>\n",
       "      <td>43</td>\n",
       "      <td>2</td>\n",
       "      <td>125510.82</td>\n",
       "      <td>1</td>\n",
       "      <td>1</td>\n",
       "      <td>1</td>\n",
       "      <td>0</td>\n",
       "      <td>0</td>\n",
       "      <td>0.0</td>\n",
       "      <td>1.0</td>\n",
       "    </tr>\n",
       "    <tr>\n",
       "      <th>5</th>\n",
       "      <td>645</td>\n",
       "      <td>44</td>\n",
       "      <td>8</td>\n",
       "      <td>113755.78</td>\n",
       "      <td>2</td>\n",
       "      <td>1</td>\n",
       "      <td>0</td>\n",
       "      <td>1</td>\n",
       "      <td>1</td>\n",
       "      <td>0.0</td>\n",
       "      <td>1.0</td>\n",
       "    </tr>\n",
       "    <tr>\n",
       "      <th>6</th>\n",
       "      <td>822</td>\n",
       "      <td>50</td>\n",
       "      <td>7</td>\n",
       "      <td>0.00</td>\n",
       "      <td>2</td>\n",
       "      <td>1</td>\n",
       "      <td>1</td>\n",
       "      <td>0</td>\n",
       "      <td>1</td>\n",
       "      <td>0.0</td>\n",
       "      <td>0.0</td>\n",
       "    </tr>\n",
       "    <tr>\n",
       "      <th>7</th>\n",
       "      <td>501</td>\n",
       "      <td>44</td>\n",
       "      <td>4</td>\n",
       "      <td>142051.07</td>\n",
       "      <td>2</td>\n",
       "      <td>0</td>\n",
       "      <td>1</td>\n",
       "      <td>0</td>\n",
       "      <td>1</td>\n",
       "      <td>0.0</td>\n",
       "      <td>0.0</td>\n",
       "    </tr>\n",
       "    <tr>\n",
       "      <th>8</th>\n",
       "      <td>684</td>\n",
       "      <td>27</td>\n",
       "      <td>2</td>\n",
       "      <td>134603.88</td>\n",
       "      <td>1</td>\n",
       "      <td>1</td>\n",
       "      <td>1</td>\n",
       "      <td>0</td>\n",
       "      <td>1</td>\n",
       "      <td>0.0</td>\n",
       "      <td>0.0</td>\n",
       "    </tr>\n",
       "    <tr>\n",
       "      <th>9</th>\n",
       "      <td>528</td>\n",
       "      <td>31</td>\n",
       "      <td>6</td>\n",
       "      <td>102016.72</td>\n",
       "      <td>2</td>\n",
       "      <td>0</td>\n",
       "      <td>0</td>\n",
       "      <td>0</td>\n",
       "      <td>1</td>\n",
       "      <td>0.0</td>\n",
       "      <td>1.0</td>\n",
       "    </tr>\n",
       "  </tbody>\n",
       "</table>\n",
       "</div>"
      ],
      "text/plain": [
       "   CreditScore  Age  Tenure    Balance  NumOfProducts  HasCrCard  \\\n",
       "0          619   42       2       0.00              1          1   \n",
       "1          608   41       1   83807.86              1          0   \n",
       "2          502   42       8  159660.80              3          1   \n",
       "3          699   39       1       0.00              2          0   \n",
       "4          850   43       2  125510.82              1          1   \n",
       "5          645   44       8  113755.78              2          1   \n",
       "6          822   50       7       0.00              2          1   \n",
       "7          501   44       4  142051.07              2          0   \n",
       "8          684   27       2  134603.88              1          1   \n",
       "9          528   31       6  102016.72              2          0   \n",
       "\n",
       "   IsActiveMember  Exited  Gender_cat  Germany  Spain  \n",
       "0               1       1           0      0.0    0.0  \n",
       "1               1       0           0      0.0    1.0  \n",
       "2               0       1           0      0.0    0.0  \n",
       "3               0       0           0      0.0    0.0  \n",
       "4               1       0           0      0.0    1.0  \n",
       "5               0       1           1      0.0    1.0  \n",
       "6               1       0           1      0.0    0.0  \n",
       "7               1       0           1      0.0    0.0  \n",
       "8               1       0           1      0.0    0.0  \n",
       "9               0       0           1      0.0    1.0  "
      ]
     },
     "execution_count": 3,
     "metadata": {},
     "output_type": "execute_result"
    }
   ],
   "source": [
    "churn_data.head(10)"
   ]
  },
  {
   "cell_type": "code",
   "execution_count": 4,
   "metadata": {},
   "outputs": [
    {
     "name": "stdout",
     "output_type": "stream",
     "text": [
      "<class 'pandas.core.frame.DataFrame'>\n",
      "RangeIndex: 9986 entries, 0 to 9985\n",
      "Data columns (total 11 columns):\n",
      " #   Column          Non-Null Count  Dtype\n",
      "---  ------          --------------  -----\n",
      " 0   CreditScore     9986 non-null   int64\n",
      " 1   Age             9986 non-null   int64\n",
      " 2   Tenure          9986 non-null   int64\n",
      " 3   Balance         9986 non-null   int64\n",
      " 4   NumOfProducts   9986 non-null   int64\n",
      " 5   HasCrCard       9986 non-null   int64\n",
      " 6   IsActiveMember  9986 non-null   int64\n",
      " 7   Exited          9986 non-null   int64\n",
      " 8   Gender_cat      9986 non-null   int64\n",
      " 9   Germany         9986 non-null   int64\n",
      " 10  Spain           9986 non-null   int64\n",
      "dtypes: int64(11)\n",
      "memory usage: 858.3 KB\n"
     ]
    }
   ],
   "source": [
    "churn_data = churn_data.astype(np.int)\n",
    "\n",
    "churn_data.info()"
   ]
  },
  {
   "cell_type": "code",
   "execution_count": 5,
   "metadata": {
    "scrolled": true
   },
   "outputs": [
    {
     "data": {
      "text/plain": [
       "0    7963\n",
       "1    2023\n",
       "Name: Exited, dtype: int64"
      ]
     },
     "execution_count": 5,
     "metadata": {},
     "output_type": "execute_result"
    }
   ],
   "source": [
    "Data=churn_data.iloc[:,[0,1,2,3,4,5,6,8,9,10]]\n",
    "Target=churn_data.iloc[:,7] \n",
    "\n",
    "Target.value_counts()"
   ]
  },
  {
   "cell_type": "markdown",
   "metadata": {},
   "source": [
    "We can see that the classes are in a 80:20 ratio therefore, we would need to stratify the dataset later.\n",
    "    \n",
    "We will now split the data into train and test datasets into 70:30 ratio.\n",
    "\n"
   ]
  },
  {
   "cell_type": "code",
   "execution_count": 6,
   "metadata": {},
   "outputs": [],
   "source": [
    "Data_train, Data_test, Target_train, Target_test = train_test_split(Data, Target, test_size=0.3,random_state=4)"
   ]
  },
  {
   "cell_type": "code",
   "execution_count": 7,
   "metadata": {},
   "outputs": [
    {
     "name": "stdout",
     "output_type": "stream",
     "text": [
      "(6990, 10)\n",
      "(2996, 10)\n",
      "(6990,)\n",
      "(2996,)\n"
     ]
    }
   ],
   "source": [
    "print(Data_train.shape)\n",
    "print(Data_test.shape)\n",
    "print(Target_train.shape)\n",
    "print(Target_test.shape)\n"
   ]
  },
  {
   "cell_type": "markdown",
   "metadata": {},
   "source": [
    "Converting the datasets into numpy array for further analysis."
   ]
  },
  {
   "cell_type": "code",
   "execution_count": 8,
   "metadata": {},
   "outputs": [],
   "source": [
    "Data_train= Data_train.to_numpy()\n"
   ]
  },
  {
   "cell_type": "code",
   "execution_count": 9,
   "metadata": {
    "scrolled": true
   },
   "outputs": [
    {
     "data": {
      "text/plain": [
       "numpy.ndarray"
      ]
     },
     "execution_count": 9,
     "metadata": {},
     "output_type": "execute_result"
    }
   ],
   "source": [
    "type(Data_train)"
   ]
  },
  {
   "cell_type": "code",
   "execution_count": 10,
   "metadata": {},
   "outputs": [],
   "source": [
    "Data_test= Data_test.to_numpy()"
   ]
  },
  {
   "cell_type": "code",
   "execution_count": 11,
   "metadata": {},
   "outputs": [
    {
     "data": {
      "text/plain": [
       "numpy.ndarray"
      ]
     },
     "execution_count": 11,
     "metadata": {},
     "output_type": "execute_result"
    }
   ],
   "source": [
    "type(Data_test)"
   ]
  },
  {
   "cell_type": "markdown",
   "metadata": {},
   "source": [
    "## <font color='Gray'>Model selection\n",
    "\n",
    "\n",
    "<font color='Black'> In this section we will fit Decision Tree, Random Forest and Gradient Boosting models and see their accuracy scores respectively.\n",
    "\n",
    "### <font color='Orange'> Decision Tree"
   ]
  },
  {
   "cell_type": "code",
   "execution_count": 12,
   "metadata": {},
   "outputs": [],
   "source": [
    "\n",
    "dt_classifier = DecisionTreeClassifier(max_depth=4,\n",
    "                                       criterion='entropy',\n",
    "                                       random_state = 4)"
   ]
  },
  {
   "cell_type": "markdown",
   "metadata": {},
   "source": [
    "Fitting the Descision tree in the training dataset."
   ]
  },
  {
   "cell_type": "code",
   "execution_count": 13,
   "metadata": {},
   "outputs": [],
   "source": [
    "dt_classifier.fit(Data_train, Target_train);"
   ]
  },
  {
   "cell_type": "code",
   "execution_count": 14,
   "metadata": {},
   "outputs": [
    {
     "data": {
      "text/plain": [
       "0.8447930574098799"
      ]
     },
     "execution_count": 14,
     "metadata": {},
     "output_type": "execute_result"
    }
   ],
   "source": [
    "dt_classifier.score(Data_test, Target_test)"
   ]
  },
  {
   "cell_type": "markdown",
   "metadata": {},
   "source": [
    "### <font color='Orange'> Random Forest"
   ]
  },
  {
   "cell_type": "code",
   "execution_count": 53,
   "metadata": {},
   "outputs": [
    {
     "data": {
      "text/plain": [
       "RandomForestClassifier(random_state=4)"
      ]
     },
     "execution_count": 53,
     "metadata": {},
     "output_type": "execute_result"
    }
   ],
   "source": [
    "rf_classifier=RandomForestClassifier(n_estimators=100, random_state= 4)\n",
    "\n",
    "#Train the model using the training sets y_pred=clf.predict(X_test)\n",
    "rf_classifier.fit(Data_train,Target_train)\n",
    "\n"
   ]
  },
  {
   "cell_type": "code",
   "execution_count": 54,
   "metadata": {
    "scrolled": true
   },
   "outputs": [
    {
     "data": {
      "text/plain": [
       "0.8491321762349799"
      ]
     },
     "execution_count": 54,
     "metadata": {},
     "output_type": "execute_result"
    }
   ],
   "source": [
    "rf_classifier.score(Data_test, Target_test)"
   ]
  },
  {
   "cell_type": "markdown",
   "metadata": {},
   "source": [
    "### <font color='Orange'>Gradient Boosting"
   ]
  },
  {
   "cell_type": "code",
   "execution_count": 17,
   "metadata": {},
   "outputs": [
    {
     "data": {
      "text/plain": [
       "GradientBoostingClassifier(random_state=4)"
      ]
     },
     "execution_count": 17,
     "metadata": {},
     "output_type": "execute_result"
    }
   ],
   "source": [
    "gbm_classifier = GradientBoostingClassifier(random_state=4)\n",
    "\n",
    "gbm_classifier.fit(Data_train, Target_train)"
   ]
  },
  {
   "cell_type": "code",
   "execution_count": 18,
   "metadata": {},
   "outputs": [
    {
     "data": {
      "text/plain": [
       "0.8508010680907877"
      ]
     },
     "execution_count": 18,
     "metadata": {},
     "output_type": "execute_result"
    }
   ],
   "source": [
    "gbm_classifier.score(Data_test, Target_test)"
   ]
  },
  {
   "cell_type": "markdown",
   "metadata": {},
   "source": [
    "\n",
    "\n",
    "## <font color='Gray'> Feature selection\n",
    "\n",
    "<font color='Black'> In this section we will try selecting the most important features in the dataset by Random Forest classifier which will help in our prediction. \n",
    "\n",
    "### Feature selection with Random Forest Importance."
   ]
  },
  {
   "cell_type": "code",
   "execution_count": 19,
   "metadata": {},
   "outputs": [
    {
     "name": "stdout",
     "output_type": "stream",
     "text": [
      "('CreditScore', 0.19411958115433126)\n",
      "('Age', 0.27079728061725805)\n",
      "('Tenure', 0.10412475968462241)\n",
      "('Balance', 0.17505913046774488)\n",
      "('NumOfProducts', 0.13109603505856435)\n",
      "('HasCrCard', 0.021730249975970735)\n",
      "('IsActiveMember', 0.04234319208134191)\n",
      "('Gender_cat', 0.020662054496997078)\n",
      "('Germany', 0.0196818110739646)\n",
      "('Spain', 0.02038590538920474)\n"
     ]
    }
   ],
   "source": [
    "# Create a RFI with default gini criterion.\n",
    "clf = RandomForestClassifier(n_estimators=1000, random_state=4, n_jobs=-1)\n",
    "\n",
    "# Train the classifier\n",
    "clf.fit(Data_train, Target_train)\n",
    "\n",
    "# Feature and it's respective gini importance\n",
    "for feature in zip(Data, clf.feature_importances_):\n",
    "    print(feature)"
   ]
  },
  {
   "cell_type": "markdown",
   "metadata": {},
   "source": [
    "Next, we will create a selector object that will use the rfi to identify those features which have importance of more than 0.10 in the model and print the names of the features."
   ]
  },
  {
   "cell_type": "code",
   "execution_count": 20,
   "metadata": {},
   "outputs": [
    {
     "data": {
      "text/plain": [
       "SelectFromModel(estimator=RandomForestClassifier(n_estimators=1000, n_jobs=-1,\n",
       "                                                 random_state=4),\n",
       "                threshold=0.1)"
      ]
     },
     "execution_count": 20,
     "metadata": {},
     "output_type": "execute_result"
    }
   ],
   "source": [
    "sel = SelectFromModel(clf, threshold=0.10)\n",
    "\n",
    "# Train the selector\n",
    "sel.fit(Data_train, Target_train)"
   ]
  },
  {
   "cell_type": "code",
   "execution_count": 21,
   "metadata": {},
   "outputs": [],
   "source": [
    "feature_index= sel.get_support(indices=True)"
   ]
  },
  {
   "cell_type": "code",
   "execution_count": 22,
   "metadata": {},
   "outputs": [
    {
     "name": "stdout",
     "output_type": "stream",
     "text": [
      "Index(['CreditScore', 'Age', 'Tenure', 'Balance', 'NumOfProducts'], dtype='object')\n"
     ]
    }
   ],
   "source": [
    "colname = Data.columns[feature_index]\n",
    "print (colname)"
   ]
  },
  {
   "cell_type": "markdown",
   "metadata": {},
   "source": [
    "As we can see, CreditScore, Age, Tenure, Balance and NumOfProducts can explain majority of the data. Thus, we will create train and test datasets containing only these features. "
   ]
  },
  {
   "cell_type": "code",
   "execution_count": 23,
   "metadata": {},
   "outputs": [],
   "source": [
    "Data_train_important = sel.transform(Data_train)\n",
    "Data_test_important = sel.transform(Data_test)"
   ]
  },
  {
   "cell_type": "markdown",
   "metadata": {},
   "source": [
    "Next, we will create a new rfi classifier with the most important identified features and train the new dataset with it."
   ]
  },
  {
   "cell_type": "code",
   "execution_count": 24,
   "metadata": {
    "scrolled": true
   },
   "outputs": [
    {
     "data": {
      "text/plain": [
       "RandomForestClassifier(n_estimators=1000, n_jobs=-1, random_state=4)"
      ]
     },
     "execution_count": 24,
     "metadata": {},
     "output_type": "execute_result"
    }
   ],
   "source": [
    "clf_important = RandomForestClassifier(n_estimators=1000, random_state=4, n_jobs=-1)\n",
    "\n",
    "clf_important.fit(Data_train_important, Target_train)"
   ]
  },
  {
   "cell_type": "markdown",
   "metadata": {},
   "source": [
    "We will compare the full featured classifier and the important feature classifiers in order to see the difference in the accuracy scores."
   ]
  },
  {
   "cell_type": "code",
   "execution_count": 25,
   "metadata": {},
   "outputs": [
    {
     "data": {
      "text/plain": [
       "0.8508010680907877"
      ]
     },
     "execution_count": 25,
     "metadata": {},
     "output_type": "execute_result"
    }
   ],
   "source": [
    "# Full Featured Classifier on test data\n",
    "Target_pred = clf.predict(Data_test)\n",
    "\n",
    "# View accuracy score of Full Feature (10) model:\n",
    "accuracy_score(Target_test, Target_pred)"
   ]
  },
  {
   "cell_type": "code",
   "execution_count": 26,
   "metadata": {},
   "outputs": [
    {
     "data": {
      "text/plain": [
       "0.8294392523364486"
      ]
     },
     "execution_count": 26,
     "metadata": {},
     "output_type": "execute_result"
    }
   ],
   "source": [
    "# Important Featured Classifier on test data\n",
    "Target_important_pred = clf_important.predict(Data_test_important)\n",
    "\n",
    "# View accuracy score of Important Feature (5) model:\n",
    "accuracy_score(Target_test, Target_important_pred)"
   ]
  },
  {
   "cell_type": "markdown",
   "metadata": {},
   "source": [
    "On comparing the accuracy scores we can see that the original model with all the features has an accuracy of 85.08% whereas, the model with 5 important feature gives as good as 83% accuracy. Therefore, we have almost halved the number of features for a very small cost in accuracy.\n"
   ]
  },
  {
   "cell_type": "markdown",
   "metadata": {},
   "source": [
    "## <font color='Gray'> Model Fitting and Tuning"
   ]
  },
  {
   "cell_type": "markdown",
   "metadata": {},
   "source": [
    "In this section we will use Stratified K Fold cross validation object and pass it through GridSearchCV function in order to tune the hyperparameters and then build 3 different models with the data."
   ]
  },
  {
   "cell_type": "code",
   "execution_count": 27,
   "metadata": {},
   "outputs": [],
   "source": [
    "cv_method = StratifiedKFold(n_splits=10, \n",
    "                                    random_state=4)"
   ]
  },
  {
   "cell_type": "code",
   "execution_count": 28,
   "metadata": {},
   "outputs": [],
   "source": [
    "# custom function for RFI feature selection inside a pipeline\n",
    "# here we use n_estimators=100\n",
    "class RFIFeatureSelector(BaseEstimator, TransformerMixin):\n",
    "    \n",
    "    # class constructor \n",
    "    def __init__(self, n_features_= 5):\n",
    "        self.n_features_ = n_features_\n",
    "        self.fs_indices_ = None\n",
    "\n",
    "    # override the fit function\n",
    "    def fit(self, X, y):\n",
    "        from numpy import argsort\n",
    "        clf_important = RandomForestClassifier(n_estimators=100)\n",
    "        clf_important.fit(X, y)\n",
    "        self.fs_indices_ = argsort(clf_important.feature_importances_)[::-1][0:self.n_features_] \n",
    "        return self \n",
    "    \n",
    "    # override the transform function\n",
    "    def transform(self, X, y=None):\n",
    "        return X[:, self.fs_indices_]"
   ]
  },
  {
   "cell_type": "code",
   "execution_count": 29,
   "metadata": {},
   "outputs": [
    {
     "name": "stdout",
     "output_type": "stream",
     "text": [
      "Fitting 10 folds for each of 144 candidates, totalling 1440 fits\n"
     ]
    },
    {
     "name": "stderr",
     "output_type": "stream",
     "text": [
      "[Parallel(n_jobs=-2)]: Using backend LokyBackend with 3 concurrent workers.\n",
      "[Parallel(n_jobs=-2)]: Done  35 tasks      | elapsed:   19.2s\n",
      "[Parallel(n_jobs=-2)]: Done 156 tasks      | elapsed:  1.1min\n",
      "[Parallel(n_jobs=-2)]: Done 359 tasks      | elapsed:  2.5min\n",
      "[Parallel(n_jobs=-2)]: Done 642 tasks      | elapsed:  4.5min\n",
      "[Parallel(n_jobs=-2)]: Done 1007 tasks      | elapsed: 11.0min\n",
      "[Parallel(n_jobs=-2)]: Done 1440 out of 1440 | elapsed: 14.5min finished\n"
     ]
    }
   ],
   "source": [
    "pipe_DT = Pipeline([('rfi_fs', RFIFeatureSelector()),\n",
    "                    ('dt', DecisionTreeClassifier( random_state=4))])\n",
    "\n",
    "params_pipe_DT = {'rfi_fs__n_features_': [5, 6, 7, Data.shape[1]],\n",
    "                  'dt__criterion': ['gini', 'entropy'],\n",
    "                  'dt__max_depth': [3, 4, 5, 6,7,8],\n",
    "                  'dt__min_samples_split': [2,3,5]}\n",
    "\n",
    "gs_pipe_DT = GridSearchCV(estimator= pipe_DT, \n",
    "                          param_grid= params_pipe_DT, \n",
    "                          cv= cv_method,\n",
    "                          n_jobs= -2,\n",
    "                          scoring='accuracy',\n",
    "                          verbose=2) \n",
    "\n",
    "gs_pipe_DT.fit(Data_train, Target_train);"
   ]
  },
  {
   "cell_type": "code",
   "execution_count": 30,
   "metadata": {},
   "outputs": [
    {
     "data": {
      "text/plain": [
       "{'dt__criterion': 'entropy',\n",
       " 'dt__max_depth': 5,\n",
       " 'dt__min_samples_split': 3,\n",
       " 'rfi_fs__n_features_': 7}"
      ]
     },
     "execution_count": 30,
     "metadata": {},
     "output_type": "execute_result"
    }
   ],
   "source": [
    "gs_pipe_DT.best_params_"
   ]
  },
  {
   "cell_type": "code",
   "execution_count": 31,
   "metadata": {},
   "outputs": [
    {
     "data": {
      "text/plain": [
       "0.8542203147353362"
      ]
     },
     "execution_count": 31,
     "metadata": {},
     "output_type": "execute_result"
    }
   ],
   "source": [
    "gs_pipe_DT.best_score_"
   ]
  },
  {
   "cell_type": "code",
   "execution_count": 32,
   "metadata": {
    "scrolled": true
   },
   "outputs": [
    {
     "data": {
      "text/plain": [
       "Index(['dt__criterion', 'dt__max_depth', 'dt__min_samples_split',\n",
       "       'rfi_fs__n_features_', 'test_score'],\n",
       "      dtype='object')"
      ]
     },
     "execution_count": 32,
     "metadata": {},
     "output_type": "execute_result"
    }
   ],
   "source": [
    "results_DT = pd.DataFrame(gs_pipe_DT.cv_results_['params'])\n",
    "results_DT['test_score'] = gs_pipe_DT.cv_results_['mean_test_score']\n",
    "results_DT.columns"
   ]
  },
  {
   "cell_type": "markdown",
   "metadata": {},
   "source": [
    "####  Plot showing the performance comparison between Gini and Entropy impurity"
   ]
  },
  {
   "cell_type": "code",
   "execution_count": 33,
   "metadata": {
    "scrolled": false
   },
   "outputs": [
    {
     "data": {
      "image/png": "[encoded data removed]",
      "text/plain": [
       "<Figure size 432x288 with 1 Axes>"
      ]
     },
     "metadata": {
      "needs_background": "light"
     },
     "output_type": "display_data"
    }
   ],
   "source": [
    "for i in ['gini', 'entropy']:\n",
    "    temp = results_DT[results_DT['dt__criterion'] == i]\n",
    "    temp_average = temp.groupby('dt__max_depth').agg({'test_score': 'mean'})\n",
    "    plt.plot(temp_average, marker = '.', label = i)\n",
    "    \n",
    "    \n",
    "plt.legend()\n",
    "plt.xlabel('Max Depth')\n",
    "plt.ylabel(\"Mean CV Score\")\n",
    "plt.title(\"DT Performance Comparison\")\n",
    "plt.show()"
   ]
  },
  {
   "cell_type": "markdown",
   "metadata": {},
   "source": [
    "### Random Forest"
   ]
  },
  {
   "cell_type": "code",
   "execution_count": 34,
   "metadata": {},
   "outputs": [
    {
     "name": "stdout",
     "output_type": "stream",
     "text": [
      "Fitting 10 folds for each of 108 candidates, totalling 1080 fits\n"
     ]
    },
    {
     "name": "stderr",
     "output_type": "stream",
     "text": [
      "[Parallel(n_jobs=-2)]: Using backend LokyBackend with 3 concurrent workers.\n",
      "[Parallel(n_jobs=-2)]: Done  35 tasks      | elapsed:   23.1s\n",
      "[Parallel(n_jobs=-2)]: Done 156 tasks      | elapsed:  1.8min\n",
      "[Parallel(n_jobs=-2)]: Done 359 tasks      | elapsed:  4.4min\n",
      "[Parallel(n_jobs=-2)]: Done 642 tasks      | elapsed:  8.0min\n",
      "[Parallel(n_jobs=-2)]: Done 1007 tasks      | elapsed: 12.3min\n",
      "[Parallel(n_jobs=-2)]: Done 1080 out of 1080 | elapsed: 13.2min finished\n"
     ]
    }
   ],
   "source": [
    "pipe_RF = Pipeline([('rfi_fs', RFIFeatureSelector()),\n",
    "                    ('rf', RandomForestClassifier(random_state=4))])\n",
    "\n",
    "\n",
    "params_pipe_RF = {'rfi_fs__n_features_': [3, 5],  \n",
    "                  'rf__criterion': ['entropy', 'gini'],\n",
    "                  'rf__max_depth': [2, 3, 5], \n",
    "                  'rf__min_samples_split': [2, 3, 5],\n",
    "                  'rf__min_samples_leaf': [1,5,8]\n",
    "             \n",
    "                 }\n",
    "\n",
    "gs_pipe_RF = GridSearchCV(estimator=pipe_RF, \n",
    "                          param_grid=params_pipe_RF, \n",
    "                          cv=cv_method,\n",
    "                          refit=True,\n",
    "                          n_jobs=-2,\n",
    "                          scoring='accuracy',\n",
    "                          verbose=2) \n",
    "\n",
    "gs_pipe_RF.fit(Data_train, Target_train);"
   ]
  },
  {
   "cell_type": "code",
   "execution_count": 35,
   "metadata": {},
   "outputs": [
    {
     "data": {
      "text/plain": [
       "{'rf__criterion': 'gini',\n",
       " 'rf__max_depth': 5,\n",
       " 'rf__min_samples_leaf': 1,\n",
       " 'rf__min_samples_split': 5,\n",
       " 'rfi_fs__n_features_': 5}"
      ]
     },
     "execution_count": 35,
     "metadata": {},
     "output_type": "execute_result"
    }
   ],
   "source": [
    "gs_pipe_RF.best_params_"
   ]
  },
  {
   "cell_type": "code",
   "execution_count": 36,
   "metadata": {},
   "outputs": [
    {
     "data": {
      "text/plain": [
       "0.8319027181688126"
      ]
     },
     "execution_count": 36,
     "metadata": {},
     "output_type": "execute_result"
    }
   ],
   "source": [
    "gs_pipe_RF.best_score_"
   ]
  },
  {
   "cell_type": "code",
   "execution_count": 37,
   "metadata": {},
   "outputs": [
    {
     "data": {
      "text/plain": [
       "Index(['rf__criterion', 'rf__max_depth', 'rf__min_samples_leaf',\n",
       "       'rf__min_samples_split', 'rfi_fs__n_features_', 'test_score'],\n",
       "      dtype='object')"
      ]
     },
     "execution_count": 37,
     "metadata": {},
     "output_type": "execute_result"
    }
   ],
   "source": [
    "results_RF = pd.DataFrame(gs_pipe_RF.cv_results_['params'])\n",
    "results_RF['test_score'] = gs_pipe_RF.cv_results_['mean_test_score']\n",
    "results_RF.columns"
   ]
  },
  {
   "cell_type": "markdown",
   "metadata": {},
   "source": [
    "####  Plot showing the performance comparison between Gini and Entropy impurity"
   ]
  },
  {
   "cell_type": "code",
   "execution_count": 38,
   "metadata": {},
   "outputs": [
    {
     "data": {
      "image/png": "[encoded data removed]",
      "text/plain": [
       "<Figure size 432x288 with 1 Axes>"
      ]
     },
     "metadata": {
      "needs_background": "light"
     },
     "output_type": "display_data"
    }
   ],
   "source": [
    "for i in ['entropy', 'gini']:\n",
    "    temp = results_RF[results_RF['rf__criterion'] == i]\n",
    "    temp_average = temp.groupby('rf__max_depth').agg({'test_score': 'mean'})\n",
    "    plt.plot(temp_average, marker = '.', label = i)\n",
    "    \n",
    "    \n",
    "plt.legend()\n",
    "plt.xlabel('Max Depth')\n",
    "plt.ylabel(\"Mean CV Score\")\n",
    "plt.title(\"RF Performance Comparison\")\n",
    "plt.show()"
   ]
  },
  {
   "cell_type": "markdown",
   "metadata": {},
   "source": [
    "### Gradient Boosting"
   ]
  },
  {
   "cell_type": "code",
   "execution_count": 39,
   "metadata": {},
   "outputs": [
    {
     "name": "stdout",
     "output_type": "stream",
     "text": [
      "Fitting 10 folds for each of 180 candidates, totalling 1800 fits\n"
     ]
    },
    {
     "name": "stderr",
     "output_type": "stream",
     "text": [
      "[Parallel(n_jobs=-2)]: Using backend LokyBackend with 3 concurrent workers.\n",
      "[Parallel(n_jobs=-2)]: Done  35 tasks      | elapsed:   20.6s\n",
      "[Parallel(n_jobs=-2)]: Done 156 tasks      | elapsed:  1.7min\n",
      "[Parallel(n_jobs=-2)]: Done 359 tasks      | elapsed:  3.9min\n",
      "[Parallel(n_jobs=-2)]: Done 642 tasks      | elapsed:  7.5min\n",
      "[Parallel(n_jobs=-2)]: Done 1007 tasks      | elapsed: 12.7min\n",
      "[Parallel(n_jobs=-2)]: Done 1452 tasks      | elapsed: 18.4min\n",
      "[Parallel(n_jobs=-2)]: Done 1800 out of 1800 | elapsed: 23.7min finished\n"
     ]
    }
   ],
   "source": [
    "pipe_GB = Pipeline([('rfi_fs', RFIFeatureSelector()),\n",
    "                    ('gb', GradientBoostingClassifier(random_state=4))])\n",
    "\n",
    "\n",
    "params_pipe_GB = {'rfi_fs__n_features_': [3, 5, Data.shape[1]], \n",
    "                  'gb__criterion': ['friedman_mse', 'mse'],\n",
    "                  'gb__max_depth': [3, 5], \n",
    "                  'gb__min_samples_split': [2, 3, 5],\n",
    "                  'gb__n_estimators': [20, 40, 60, 80, 100]\n",
    "                 }\n",
    "\n",
    "          \n",
    "gs_pipe_GB = GridSearchCV(estimator=pipe_GB, \n",
    "                          param_grid=params_pipe_GB, \n",
    "                          cv=cv_method,\n",
    "                          refit=True,\n",
    "                          n_jobs=-2,\n",
    "                          scoring='accuracy',\n",
    "                          verbose=2) \n",
    "\n",
    "gs_pipe_GB.fit(Data_train, Target_train);"
   ]
  },
  {
   "cell_type": "code",
   "execution_count": 40,
   "metadata": {},
   "outputs": [
    {
     "data": {
      "text/plain": [
       "{'gb__criterion': 'friedman_mse',\n",
       " 'gb__max_depth': 3,\n",
       " 'gb__min_samples_split': 2,\n",
       " 'gb__n_estimators': 100,\n",
       " 'rfi_fs__n_features_': 10}"
      ]
     },
     "execution_count": 40,
     "metadata": {},
     "output_type": "execute_result"
    }
   ],
   "source": [
    "gs_pipe_GB.best_params_"
   ]
  },
  {
   "cell_type": "code",
   "execution_count": 41,
   "metadata": {},
   "outputs": [
    {
     "data": {
      "text/plain": [
       "0.8612303290414879"
      ]
     },
     "execution_count": 41,
     "metadata": {},
     "output_type": "execute_result"
    }
   ],
   "source": [
    "gs_pipe_GB.best_score_"
   ]
  },
  {
   "cell_type": "code",
   "execution_count": 42,
   "metadata": {
    "scrolled": false
   },
   "outputs": [
    {
     "data": {
      "text/plain": [
       "Index(['gb__criterion', 'gb__max_depth', 'gb__min_samples_split',\n",
       "       'gb__n_estimators', 'rfi_fs__n_features_', 'test_score'],\n",
       "      dtype='object')"
      ]
     },
     "execution_count": 42,
     "metadata": {},
     "output_type": "execute_result"
    }
   ],
   "source": [
    "results_GB = pd.DataFrame(gs_pipe_GB.cv_results_['params'])\n",
    "results_GB['test_score'] = gs_pipe_GB.cv_results_['mean_test_score']\n",
    "results_GB.columns"
   ]
  },
  {
   "cell_type": "markdown",
   "metadata": {},
   "source": [
    "####  Heatmap showing the performance comparison between Friedman_mse and mse "
   ]
  },
  {
   "cell_type": "code",
   "execution_count": 43,
   "metadata": {},
   "outputs": [
    {
     "data": {
      "text/plain": [
       "<AxesSubplot:xlabel='param_gb__criterion', ylabel='param_gb__n_estimators'>"
      ]
     },
     "execution_count": 43,
     "metadata": {},
     "output_type": "execute_result"
    },
    {
     "data": {
      "image/png": "[encoded data removed]",
      "text/plain": [
       "<Figure size 432x288 with 2 Axes>"
      ]
     },
     "metadata": {
      "needs_background": "light"
     },
     "output_type": "display_data"
    }
   ],
   "source": [
    "table = pd.pivot_table(pd.DataFrame(gs_pipe_GB.cv_results_),\n",
    "    values='mean_test_score', index='param_gb__n_estimators', \n",
    "                       columns='param_gb__criterion')\n",
    "     \n",
    "sns.heatmap(table)"
   ]
  },
  {
   "cell_type": "markdown",
   "metadata": {},
   "source": [
    "### <font color= 'Gray'> Model Comparison \n",
    "    \n",
    "<font color= 'Black'> In hyperparameter tuning phase above, we used the 6990 rows in our training data within a cross-validation framework and we determined the best hyperparameter values for each of the three classifiers. \n",
    "For example, Random Forest's best hyperparameter values are criterion = gini, max_depth= 5,min_samples_leaf= 5, min_samples_split= 2, n_estimators= 20 and n_features_= 5.\n",
    "\n",
    "We will now fit each tuned classifier (with the best set of hyperparameter values) on the remaining 2996 rows in the test data (also unseen data) in a cross-validated fashion in order to identify the best classifier. We will perform pairwise t-tests to determine if the difference between any of the classifier's performance is statistically significant. We will use the same cv_method of 10-fold stratified cross-validation in each of the three cross-validation runs. Then we conduct a paired t-test for the accuracy score between the following classifier combinations:\n",
    "- DT vs. RF,\n",
    "- DT vs. GB, and\n",
    "- RF vs. GB."
   ]
  },
  {
   "cell_type": "code",
   "execution_count": 44,
   "metadata": {},
   "outputs": [
    {
     "data": {
      "text/plain": [
       "0.8477792642140468"
      ]
     },
     "execution_count": 44,
     "metadata": {},
     "output_type": "execute_result"
    }
   ],
   "source": [
    "cv_results_DT = cross_val_score(estimator=gs_pipe_DT.best_estimator_,\n",
    "                                 X=Data_test,\n",
    "                                 y=Target_test, \n",
    "                                 cv=cv_method, \n",
    "                                 n_jobs=-2,\n",
    "                                 scoring='accuracy')\n",
    "cv_results_DT.mean()"
   ]
  },
  {
   "cell_type": "code",
   "execution_count": 45,
   "metadata": {},
   "outputs": [
    {
     "data": {
      "text/plain": [
       "0.8351070234113713"
      ]
     },
     "execution_count": 45,
     "metadata": {},
     "output_type": "execute_result"
    }
   ],
   "source": [
    "\n",
    "cv_method_test = StratifiedKFold(n_splits=10, random_state=4)\n",
    "\n",
    "cv_results_RF = cross_val_score(estimator=gs_pipe_RF.best_estimator_,\n",
    "                                 X=Data_test,\n",
    "                                 y=Target_test, \n",
    "                                 cv=cv_method, \n",
    "                                 n_jobs=-2,\n",
    "                                 scoring='accuracy')\n",
    "cv_results_RF.mean()"
   ]
  },
  {
   "cell_type": "code",
   "execution_count": 46,
   "metadata": {},
   "outputs": [
    {
     "data": {
      "text/plain": [
       "0.8487748049052396"
      ]
     },
     "execution_count": 46,
     "metadata": {},
     "output_type": "execute_result"
    }
   ],
   "source": [
    "cv_results_GB = cross_val_score(estimator=gs_pipe_GB.best_estimator_,\n",
    "                                X=Data_test,\n",
    "                                y=Target_test, \n",
    "                                cv=cv_method, \n",
    "                                n_jobs=-2,\n",
    "                                scoring='accuracy')\n",
    "cv_results_GB.mean()"
   ]
  },
  {
   "cell_type": "markdown",
   "metadata": {},
   "source": [
    "We can see that Gradient Boosting has the best cross validation score.\n",
    "We will now perform a t-test in order to understand the whether the difference in accuracy results are significant."
   ]
  },
  {
   "cell_type": "code",
   "execution_count": 47,
   "metadata": {
    "scrolled": true
   },
   "outputs": [
    {
     "name": "stdout",
     "output_type": "stream",
     "text": [
      "Ttest_relResult(statistic=2.107926570858072, pvalue=0.06428582698479261)\n",
      "Ttest_relResult(statistic=-0.436150105131282, pvalue=0.6730027007980454)\n",
      "Ttest_relResult(statistic=-2.108675488373305, pvalue=0.06420770844770489)\n"
     ]
    }
   ],
   "source": [
    "print(stats.ttest_rel(cv_results_DT, cv_results_RF))\n",
    "print(stats.ttest_rel(cv_results_DT, cv_results_GB))\n",
    "print(stats.ttest_rel(cv_results_RF, cv_results_GB))"
   ]
  },
  {
   "cell_type": "markdown",
   "metadata": {},
   "source": [
    "As we can see from the p-values of all the three classifiers, accuracy scores of random forest and gradient boosting are significantly different."
   ]
  },
  {
   "cell_type": "code",
   "execution_count": 48,
   "metadata": {},
   "outputs": [],
   "source": [
    "pred_DT = gs_pipe_DT.predict(Data_test)"
   ]
  },
  {
   "cell_type": "code",
   "execution_count": 49,
   "metadata": {},
   "outputs": [],
   "source": [
    "pred_RF = gs_pipe_RF.predict(Data_test)"
   ]
  },
  {
   "cell_type": "code",
   "execution_count": 50,
   "metadata": {},
   "outputs": [],
   "source": [
    "pred_GB = gs_pipe_GB.predict(Data_test)"
   ]
  },
  {
   "cell_type": "code",
   "execution_count": 51,
   "metadata": {},
   "outputs": [
    {
     "name": "stdout",
     "output_type": "stream",
     "text": [
      "\n",
      "Classification report for Decision Tree\n",
      "              precision    recall  f1-score   support\n",
      "\n",
      "           0       0.85      0.98      0.91      2371\n",
      "           1       0.82      0.37      0.51       625\n",
      "\n",
      "    accuracy                           0.85      2996\n",
      "   macro avg       0.84      0.67      0.71      2996\n",
      "weighted avg       0.85      0.85      0.83      2996\n",
      "\n",
      "\n",
      "Classification report for Random Forest\n",
      "              precision    recall  f1-score   support\n",
      "\n",
      "           0       0.83      0.99      0.90      2371\n",
      "           1       0.85      0.21      0.34       625\n",
      "\n",
      "    accuracy                           0.83      2996\n",
      "   macro avg       0.84      0.60      0.62      2996\n",
      "weighted avg       0.83      0.83      0.78      2996\n",
      "\n",
      "\n",
      "Classification report for Gradient Boosting\n",
      "              precision    recall  f1-score   support\n",
      "\n",
      "           0       0.86      0.96      0.91      2371\n",
      "           1       0.75      0.43      0.54       625\n",
      "\n",
      "    accuracy                           0.85      2996\n",
      "   macro avg       0.81      0.69      0.73      2996\n",
      "weighted avg       0.84      0.85      0.83      2996\n",
      "\n"
     ]
    }
   ],
   "source": [
    "print(\"\\nClassification report for Decision Tree\") \n",
    "print(metrics.classification_report(Target_test, pred_DT))\n",
    "print(\"\\nClassification report for Random Forest\") \n",
    "print(metrics.classification_report(Target_test, pred_RF))\n",
    "print(\"\\nClassification report for Gradient Boosting\") \n",
    "print(metrics.classification_report(Target_test, pred_GB))"
   ]
  },
  {
   "cell_type": "code",
   "execution_count": 52,
   "metadata": {},
   "outputs": [
    {
     "name": "stdout",
     "output_type": "stream",
     "text": [
      "\n",
      "Confusion matrix for Decision Tree\n",
      "[[2320   51]\n",
      " [ 396  229]]\n",
      "\n",
      "Confusion matrix for Random Forest\n",
      "[[2347   24]\n",
      " [ 494  131]]\n",
      "\n",
      "Confusion matrix for Gradient Boosting\n",
      "[[2282   89]\n",
      " [ 359  266]]\n"
     ]
    }
   ],
   "source": [
    "print(\"\\nConfusion matrix for Decision Tree\") \n",
    "print(metrics.confusion_matrix(Target_test, pred_DT))\n",
    "print(\"\\nConfusion matrix for Random Forest\") \n",
    "print(metrics.confusion_matrix(Target_test, pred_RF))\n",
    "print(\"\\nConfusion matrix for Gradient Boosting\") \n",
    "print(metrics.confusion_matrix(Target_test, pred_GB))"
   ]
  },
  {
   "cell_type": "markdown",
   "metadata": {},
   "source": [
    "We want to correctly predict the customers who are going to withdraw their accounts in future and hence we will maximize false negatives, i.e. will maximize the recall value which is (TP/TP+FN). From the classification report, we can see that Gradient Boosting has the highest recall rate (43%). Thus, we can conclude that Gradient Boosting algorithm is the best model for this dataset in terms of accuracy and recall factors.  "
   ]
  },
  {
   "cell_type": "markdown",
   "metadata": {},
   "source": [
    "## Limitations and Critique\n",
    "\n",
    " We indeed have identified and built the most suitable model however, there are few limitations to it. \n",
    "- Firstly, we have used classifiers such as Random Forest and Gradient Boosting, which although gives high accuracy but compromises on interpretability. That is, there is not much clarity as to why certain decisions are made, how should we interpret the models and make sure the results of the said algorithm are fair and statistically valid. We have visualisations of the performance for each classifiers based on their criterion but in order to show the backend process, more visualisations can be introduced. \n",
    "- Secondly, hyperparameterisation has been done keeping computational time in mind. Classifiers are kept limited to 100 estimators same is true for max_depths and max_splits. Improvement can be made if tuned further.\n",
    "- Thirdly, this study is limited to the three models we have used. There are many others (for e.g. XGBoost, ANN) which can be used to predict the churn customers.\n",
    "    \n",
    "##  <font color='Black'> Summary & Conclusion\n",
    "\n",
    "### <font color='Gray'> Project Summary\n",
    "\n",
    "<font color='Black'> In Phase 1 of this project we have seen that the current 20.26% churn rate consists mostly Male customers but there was high probability of female customers having balance more than 220,000 Euro leaving the bank. The churn rate in Germany is quite high as compared to France from where most customers belong. Customers who are not an active member, has high chances of churning. Also, most customers who are associated with the bank for more than 5 years and owns more than 3 products have left the bank which showed that the bank might be losing customers due to their poor services with time. They focus on the new customers rather than retaining the old customers or elderly customers. Further in the Phase 2 of the project, we have fitted three classifiers with tuned hyperparameters on the processed dataset. On complete analysis it is found that Gradient Boosting is the best classifier for this model which gives a prediction accuracy rate of 84.9%.\n",
    "    \n",
    "    \n",
    "### <font color='Gray'> Summary of findings\n",
    "\n",
    "<font color='Black'>The Gradient Boosting model has outperformed both Decision Tree and Random Forest classifiers. The best parameters being criterion= 'friedman_mse', max_depth= 3, min_samples_split= 2, n_estimators =100 and  n_features_= 10. We can see the 5 top features we have selected in RFI (CreditScore, Age, Tenure, Balance and NumOfProducts), did not really play a role in this. However, if one wants to use only the most important features to save computational time, Random Forest model can be used. In addition, Decision Tree classifier gives a very high precision in prediction. Therefore if accuracy and recall value is considered, Gradient Boosting is the best one.   \n",
    "    \n",
    "### <font color='Gray'> Conclusion\n",
    "    \n",
    "<font color='Black'> Thus, it is deduced that Gradient Bossting classifier can correctly predict almost 85% of the customers who has high probability of withdrawing their accounts from the bank. The bank can therefore analyse the reasons behind the churn rate considering the factors that are more resoponsible and can built strategies or provide service accordingly. As it is well known that \"Your most unhappy customers are your greatest source of learning.\" - Bill Gates.\n",
    "    \n",
    "---"
   ]
  }
 ],
 "metadata": {
  "kernelspec": {
   "display_name": "Python 3",
   "language": "python",
   "name": "python3"
  },
  "language_info": {
   "codemirror_mode": {
    "name": "ipython",
    "version": 3
   },
   "file_extension": ".py",
   "mimetype": "text/x-python",
   "name": "python",
   "nbconvert_exporter": "python",
   "pygments_lexer": "ipython3",
   "version": "3.8.5"
  }
 },
 "nbformat": 4,
 "nbformat_minor": 4
}
